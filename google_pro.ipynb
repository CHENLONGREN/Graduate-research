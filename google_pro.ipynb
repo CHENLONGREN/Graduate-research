{
 "cells": [
  {
   "cell_type": "code",
   "execution_count": 3,
   "metadata": {},
   "outputs": [
    {
     "name": "stdout",
     "output_type": "stream",
     "text": [
      "(1001, 4)\n"
     ]
    }
   ],
   "source": [
    "import numpy as np\n",
    "import pandas as pd\n",
    "\n",
    "data = pd.read_csv(\"D:\\Data\\OPT\\convlstm\\data11.csv\")\n",
    "df = pd.DataFrame(data)\n",
    "df.drop(df.columns[[0, 1, 2, 3]], axis=1, inplace=True)\n",
    "matrix = np.array(df)\n",
    "\n",
    "matrix = np.delete(matrix, [len(matrix)-1, len(matrix)-2], axis=0)\n",
    "print(matrix.shape)"
   ]
  },
  {
   "cell_type": "code",
   "execution_count": 4,
   "metadata": {},
   "outputs": [
    {
     "name": "stdout",
     "output_type": "stream",
     "text": [
      "(139, 5, 7)\n"
     ]
    }
   ],
   "source": [
    "data = np.empty((139, 5, 7))\n",
    "\n",
    "count = 0\n",
    "for i in range(139):\n",
    "    week = 0\n",
    "    while(week<5):\n",
    "        day = 0\n",
    "        while(day<7):\n",
    "            data[i][week][day] = matrix[count][0]\n",
    "            day = day + 1\n",
    "            count = count + 1\n",
    "        week = week + 1\n",
    "    count = count - 28\n",
    "        \n",
    "print(data.shape)"
   ]
  },
  {
   "cell_type": "code",
   "execution_count": 5,
   "metadata": {},
   "outputs": [
    {
     "name": "stdout",
     "output_type": "stream",
     "text": [
      "(135, 5, 5, 7)\n"
     ]
    }
   ],
   "source": [
    "input_data = np.empty((len(data)-4, 5, 5, 7))\n",
    "\n",
    "for i in range(len(input_data)):\n",
    "    time_step = 0\n",
    "    while(time_step<5):\n",
    "        input_data[i][time_step] = data[i + time_step]\n",
    "        time_step = time_step + 1\n",
    "        \n",
    "print(input_data.shape)"
   ]
  },
  {
   "cell_type": "code",
   "execution_count": 7,
   "metadata": {},
   "outputs": [
    {
     "name": "stdout",
     "output_type": "stream",
     "text": [
      "[[3353. 3323. 1860. 1800. 1938. 1744. 2004.]\n",
      " [2447. 1746. 1608. 1499. 1666. 1584. 1802.]\n",
      " [2335. 2408. 2388. 1983. 1857. 1530. 1471.]\n",
      " [1237. 1224. 1298. 1241. 1122.  951.  900.]\n",
      " [1290.  928.  844.  712.  813.  773.  899.]]\n"
     ]
    }
   ],
   "source": [
    "print(input_data[1][0])"
   ]
  },
  {
   "cell_type": "code",
   "execution_count": 8,
   "metadata": {},
   "outputs": [
    {
     "name": "stdout",
     "output_type": "stream",
     "text": [
      "[[3353. 3323. 1860. 1800. 1938. 1744. 2004.]\n",
      " [2447. 1746. 1608. 1499. 1666. 1584. 1802.]\n",
      " [2335. 2408. 2388. 1983. 1857. 1530. 1471.]\n",
      " [1237. 1224. 1298. 1241. 1122.  951.  900.]\n",
      " [1290.  928.  844.  712.  813.  773.  899.]]\n"
     ]
    }
   ],
   "source": [
    "print(input_data[0][1])"
   ]
  },
  {
   "cell_type": "code",
   "execution_count": null,
   "metadata": {
    "collapsed": true
   },
   "outputs": [],
   "source": []
  }
 ],
 "metadata": {
  "kernelspec": {
   "display_name": "tensorflow",
   "language": "python",
   "name": "tensorflow"
  },
  "language_info": {
   "codemirror_mode": {
    "name": "ipython",
    "version": 3
   },
   "file_extension": ".py",
   "mimetype": "text/x-python",
   "name": "python",
   "nbconvert_exporter": "python",
   "pygments_lexer": "ipython3",
   "version": "3.6.2"
  }
 },
 "nbformat": 4,
 "nbformat_minor": 2
}
